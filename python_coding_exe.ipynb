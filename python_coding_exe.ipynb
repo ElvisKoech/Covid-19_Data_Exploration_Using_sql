{
 "cells": [
  {
   "cell_type": "code",
   "execution_count": 2,
   "metadata": {},
   "outputs": [
    {
     "name": "stdout",
     "output_type": "stream",
     "text": [
      "0 The\n",
      "1 Big\n",
      "2 Bang\n",
      "3 Theory\n"
     ]
    }
   ],
   "source": [
    "for key, value in enumerate(['The','Big','Bang','Theory']):\n",
    "    print(key, value)"
   ]
  },
  {
   "cell_type": "code",
   "execution_count": 4,
   "metadata": {},
   "outputs": [
    {
     "name": "stdout",
     "output_type": "stream",
     "text": [
      "The Big Bang Theory "
     ]
    }
   ],
   "source": [
    "for key, value in enumerate(['The','Big','Bang','Theory']):\n",
    "    print(value, end=' ')"
   ]
  },
  {
   "cell_type": "code",
   "execution_count": 5,
   "metadata": {},
   "outputs": [],
   "source": [
    "Questions = ['name', 'colour', 'shape']\n",
    "answers = ['apple', 'red','a circle']"
   ]
  },
  {
   "cell_type": "code",
   "execution_count": 7,
   "metadata": {},
   "outputs": [
    {
     "name": "stdout",
     "output_type": "stream",
     "text": [
      "what is your name? I am apple.\n",
      "what is your colour? I am red.\n",
      "what is your shape? I am a circle.\n"
     ]
    }
   ],
   "source": [
    "for Questions, answers in zip(Questions, answers):\n",
    "    print(\"what is your {0}? I am {1}.\".format(Questions, answers))"
   ]
  },
  {
   "cell_type": "code",
   "execution_count": 8,
   "metadata": {},
   "outputs": [
    {
     "name": "stdout",
     "output_type": "stream",
     "text": [
      "the key value pair using items is :\n",
      "geeks for\n",
      "only geeks\n"
     ]
    }
   ],
   "source": [
    "d = {\"geeks\": \"for\", \"only\": \"geeks\"}\n",
    "print(\"the key value pair using items is :\")\n",
    "for i, j in d.items():\n",
    "    print(i,j)"
   ]
  },
  {
   "cell_type": "code",
   "execution_count": 9,
   "metadata": {},
   "outputs": [
    {
     "name": "stdout",
     "output_type": "stream",
     "text": [
      "the list is sorted\n",
      "2 4 4 5 8 15 18 33 42 65 69 71 89 954 "
     ]
    }
   ],
   "source": [
    "list = [2,33,89,5,4,15,65,69,71,18,8,954,4,42,]\n",
    "print(\"the list is sorted\")\n",
    "for i in sorted(list):\n",
    "    print(i, end=\" \")"
   ]
  },
  {
   "cell_type": "code",
   "execution_count": 12,
   "metadata": {},
   "outputs": [
    {
     "name": "stdout",
     "output_type": "stream",
     "text": [
      "the list is sorted without duplicates: \n",
      "2,3,4,5,8,9,15,18,42,65,69,71,954,"
     ]
    }
   ],
   "source": [
    "list = [2,3,3,8,9,9,5,4,15,65,69,71,18,8,8,954,4,42,]\n",
    "print(\"the list is sorted without duplicates: \")\n",
    "for i in sorted(set(list)):\n",
    "    print(i, end=\",\")"
   ]
  },
  {
   "cell_type": "code",
   "execution_count": 14,
   "metadata": {},
   "outputs": [
    {
     "name": "stdout",
     "output_type": "stream",
     "text": [
      "the list is sorted without duplicates: \n",
      "42,4,954,8,8,18,71,69,65,15,4,5,9,9,8,3,3,2,"
     ]
    }
   ],
   "source": [
    "list = [2,3,3,8,9,9,5,4,15,65,69,71,18,8,8,954,4,42,]\n",
    "print(\"the list is sorted without duplicates: \")\n",
    "for i in reversed(list):\n",
    "    print(i, end=\",\")"
   ]
  },
  {
   "cell_type": "code",
   "execution_count": 15,
   "metadata": {},
   "outputs": [
    {
     "name": "stdout",
     "output_type": "stream",
     "text": [
      "even\n",
      "odd\n"
     ]
    }
   ],
   "source": [
    "#code to check if x is odd or even\n",
    "def evenOdd(x):\n",
    "    if (x % 2 == 0):\n",
    "        print('even')\n",
    "    else:\n",
    "        print(\"odd\")\n",
    "evenOdd(46)\n",
    "evenOdd(45)"
   ]
  },
  {
   "cell_type": "code",
   "execution_count": 16,
   "metadata": {},
   "outputs": [
    {
     "name": "stdout",
     "output_type": "stream",
     "text": [
      "4\n"
     ]
    }
   ],
   "source": [
    "def square_value(num):\n",
    "    return num**2\n",
    "\n",
    "print(square_value(2))"
   ]
  },
  {
   "cell_type": "code",
   "execution_count": null,
   "metadata": {},
   "outputs": [],
   "source": [
    "def nextSquare():\n",
    "    i = 1\n",
    "    \n",
    "    while True:\n",
    "        yield i*1\n",
    "        i += 1\n",
    "    \n",
    "for num in nextSquare():\n",
    "    if num >100:\n",
    "        break\n",
    "            \n",
    "    print(num)"
   ]
  },
  {
   "cell_type": "code",
   "execution_count": 20,
   "metadata": {},
   "outputs": [
    {
     "name": "stdout",
     "output_type": "stream",
     "text": [
      "1\n",
      "4\n",
      "9\n",
      "16\n",
      "25\n",
      "36\n",
      "49\n",
      "64\n",
      "81\n",
      "100\n"
     ]
    }
   ],
   "source": [
    "# A Python program to generate squares from 1\n",
    "# to 100 using yield and therefore generator\n",
    "\n",
    "# An infinite generator function that prints\n",
    "# next square number. It starts with 1\n",
    "def nextSquare():\n",
    "\ti = 1\n",
    "\n",
    "\t# An Infinite loop to generate squares\n",
    "\twhile True:\n",
    "\t\tyield i*i\t\t\t\t\n",
    "\t\ti += 1 # Next execution resumes\n",
    "\t\t\t\t# from this point\t\n",
    "\n",
    "# Driver code to test above generator\n",
    "# function\n",
    "for num in nextSquare():\n",
    "\tif num > 100:\n",
    "\t\tbreak\t\n",
    "\tprint(num)\n"
   ]
  },
  {
   "cell_type": "code",
   "execution_count": 22,
   "metadata": {},
   "outputs": [
    {
     "name": "stdout",
     "output_type": "stream",
     "text": [
      "0\n",
      "1\n",
      "1\n",
      "2\n",
      "3\n",
      "5\n",
      "8\n",
      "13\n",
      "21\n",
      "34\n",
      "55\n",
      "89\n"
     ]
    }
   ],
   "source": [
    "def fib(limit):\n",
    "    #initializing first two fibonacci numbers\n",
    "    a,b = 0,1\n",
    "    #\n",
    "    while a < limit:\n",
    "        yield a \n",
    "        a, b = b, a + b\n",
    "x = fib(100)\n",
    "\n",
    "\n",
    "for i in fib(100):\n",
    "    print(i)"
   ]
  },
  {
   "cell_type": "code",
   "execution_count": 24,
   "metadata": {},
   "outputs": [
    {
     "name": "stdout",
     "output_type": "stream",
     "text": [
      "HELLO\n",
      "HELLO\n"
     ]
    }
   ],
   "source": [
    "def shout(text):\n",
    "    return text.upper()\n",
    "print(shout('Hello'))\n",
    "\n",
    "yell = shout\n",
    "print(yell(\"Hello\"))\n"
   ]
  },
  {
   "cell_type": "code",
   "execution_count": 26,
   "metadata": {},
   "outputs": [
    {
     "name": "stdout",
     "output_type": "stream",
     "text": [
      "HI I AM AT ELDORET RIGHT NOW\n",
      "hi i am at eldoret right now\n"
     ]
    }
   ],
   "source": [
    "def shout(text):\n",
    "    return text.upper()\n",
    "\n",
    "def whisper(text):\n",
    "    return text.lower()\n",
    "def greet(func):\n",
    "    greetings = func(\"\"\"Hi i am at Eldoret right now\"\"\")\n",
    "    print(greetings)\n",
    "    \n",
    "    \n",
    "    \n",
    "    \n",
    "greet(shout)\n",
    "greet(whisper)"
   ]
  },
  {
   "cell_type": "code",
   "execution_count": 27,
   "metadata": {},
   "outputs": [
    {
     "name": "stdout",
     "output_type": "stream",
     "text": [
      "25\n"
     ]
    }
   ],
   "source": [
    "def create_adder(x):\n",
    "    def adder(y):\n",
    "        return x+y\n",
    "    return adder\n",
    "\n",
    "\n",
    "add_15 = create_adder(15)\n",
    "print(add_15(10))"
   ]
  },
  {
   "cell_type": "code",
   "execution_count": 28,
   "metadata": {},
   "outputs": [
    {
     "name": "stdout",
     "output_type": "stream",
     "text": [
      "3628800\n",
      "Total time taken in:  factorial 2.00753116607666\n"
     ]
    }
   ],
   "source": [
    "import time \n",
    "import math \n",
    "\n",
    "def calculate_time(func):\n",
    "    def inner1(*args, **kwargs):\n",
    "        begin = time.time()\n",
    "        func(*args, **kwargs)\n",
    "        \n",
    "        end = time.time()\n",
    "        print(\"Total time taken in: \", func.__name__, end - begin)\n",
    "    return inner1\n",
    "\n",
    "\n",
    "@calculate_time\n",
    "def factorial(num):\n",
    "    time.sleep(2)\n",
    "    print(math.factorial(num))\n",
    "\n",
    "    \n",
    "factorial(10)"
   ]
  },
  {
   "cell_type": "code",
   "execution_count": 32,
   "metadata": {},
   "outputs": [
    {
     "data": {
      "text/plain": [
       "<function __main__.decor1.<locals>.inner()>"
      ]
     },
     "execution_count": 32,
     "metadata": {},
     "output_type": "execute_result"
    }
   ],
   "source": [
    "def decor1(func):\n",
    "    def inner():\n",
    "        x = func()\n",
    "        return x * x\n",
    "    return inner\n",
    "\n",
    "def decor(func):\n",
    "    def inner():\n",
    "        x = func()\n",
    "        return 2 * x\n",
    "    return inner\n",
    "\n",
    "num =10\n",
    "decor1(decor(num))\n",
    "\n"
   ]
  },
  {
   "cell_type": "code",
   "execution_count": 33,
   "metadata": {},
   "outputs": [
    {
     "name": "stdout",
     "output_type": "stream",
     "text": [
      "120\n"
     ]
    }
   ],
   "source": [
    "def facto(num):\n",
    "    if num == 1:\n",
    "        return 1\n",
    "    else:\n",
    "        return num * facto(num-1)\n",
    "    \n",
    "print(facto(5))"
   ]
  },
  {
   "cell_type": "code",
   "execution_count": 35,
   "metadata": {},
   "outputs": [
    {
     "name": "stdout",
     "output_type": "stream",
     "text": [
      "120\n"
     ]
    }
   ],
   "source": [
    "memory = {}\n",
    "\n",
    "def memoize_factorial(f):\n",
    "    def inner(num):\n",
    "        if num not in memory:\n",
    "            memory[num] = f(num)\n",
    "            \n",
    "        return memory[num]\n",
    "    return inner\n",
    "\n",
    "@memoize_factorial\n",
    "def facto(num):\n",
    "    if num == 1:\n",
    "        return 1\n",
    "    else:\n",
    "        return num * facto(num-1)\n",
    "print(facto(5))"
   ]
  },
  {
   "cell_type": "code",
   "execution_count": 36,
   "metadata": {},
   "outputs": [
    {
     "name": "stdout",
     "output_type": "stream",
     "text": [
      "g \n",
      "g \n",
      "g \n",
      "g \n",
      "g \n",
      "120\n"
     ]
    }
   ],
   "source": [
    "def memoize_factorial(f):\n",
    "\tmemory = {}\n",
    "\tdef inner(num):\n",
    "\t\tif num not in memory:\t \n",
    "\t\t\tprint(\"g \")\n",
    "\t\t\tmemory[num] = f(num)\n",
    "\t\treturn memory[num]\n",
    "\treturn inner\n",
    "\t\n",
    "@memoize_factorial\n",
    "def calculate_factorial(num):\n",
    "\tif num == 1:\n",
    "\t\treturn 1\n",
    "\telse:\n",
    "\t\treturn num * calculate_factorial(num-1)\n",
    "\n",
    "print(calculate_factorial(5))\n"
   ]
  },
  {
   "cell_type": "code",
   "execution_count": null,
   "metadata": {},
   "outputs": [],
   "source": [
    "names1 = ['Amir', 'Bear', 'Charlton', 'Daman']\n",
    "names2 = names1\n",
    "names3 = names1[:]\n",
    "\n",
    "names2[0] = 'Alice'\n",
    "names3[1] = 'Bob'\n",
    "\n",
    "sum = 0\n",
    "for ls in (names1, names2, names3):\n",
    "if ls[0] == 'Alice':\n",
    "sum += 1\n",
    "if ls[1] == 'Bob':\n",
    "sum += 10\n",
    "\n",
    "print sum"
   ]
  },
  {
   "cell_type": "code",
   "execution_count": null,
   "metadata": {},
   "outputs": [],
   "source": [
    "names1 = ['Amir', 'Bear', 'Charlton', 'Daman']\n",
    "names2 = names1\n",
    "names3 = names1[:]\n",
    "\n",
    "names2[0] = 'Alice'\n",
    "names3[1] = 'Bob'\n",
    "\n",
    "sum = 0\n",
    "for ls in (names1, names2, names3):\n",
    "if ls[0] == 'Alice':\n",
    "sum += 1\n",
    "if ls[1] == 'Bob':\n",
    "sum += 10\n",
    "\n",
    "print sum"
   ]
  },
  {
   "cell_type": "code",
   "execution_count": 1,
   "metadata": {
    "scrolled": false
   },
   "outputs": [
    {
     "name": "stdout",
     "output_type": "stream",
     "text": [
      "1\n",
      "2\n",
      "12\n"
     ]
    }
   ],
   "source": [
    "names1 = ['Amir', 'Bear', 'Charlton', 'Daman']\n",
    "names2 = names1\n",
    "names3 = names1[:]\n",
    "\n",
    "names2[0] = 'Alice'\n",
    "names3[1] = 'Bob'\n",
    "\n",
    "sum = 0\n",
    "for ls in (names1, names2, names3):\n",
    "    if ls[0] == 'Alice':\n",
    "        sum += 1\n",
    "    if ls[1] == 'Bob':\n",
    "        sum += 10\n",
    "    print(sum)"
   ]
  },
  {
   "cell_type": "code",
   "execution_count": 9,
   "metadata": {
    "scrolled": true
   },
   "outputs": [
    {
     "name": "stdout",
     "output_type": "stream",
     "text": [
      "Enter the Number to be Inserted: 3\n",
      "Enter Element: 34\n",
      "Enter Element: 45\n",
      "Enter Element: 56\n"
     ]
    },
    {
     "ename": "NameError",
     "evalue": "name 'Sum' is not defined",
     "output_type": "error",
     "traceback": [
      "\u001b[1;31m---------------------------------------------------------------------------\u001b[0m",
      "\u001b[1;31mNameError\u001b[0m                                 Traceback (most recent call last)",
      "\u001b[1;32m<ipython-input-9-9c830eea8510>\u001b[0m in \u001b[0;36m<module>\u001b[1;34m\u001b[0m\n\u001b[0;32m      7\u001b[0m \u001b[1;33m\u001b[0m\u001b[0m\n\u001b[0;32m      8\u001b[0m \u001b[0ma\u001b[0m\u001b[1;33m.\u001b[0m\u001b[0mappend\u001b[0m\u001b[1;33m(\u001b[0m\u001b[0melem\u001b[0m\u001b[1;33m)\u001b[0m\u001b[1;33m\u001b[0m\u001b[1;33m\u001b[0m\u001b[0m\n\u001b[1;32m----> 9\u001b[1;33m \u001b[0mavg\u001b[0m \u001b[1;33m=\u001b[0m \u001b[0mSum\u001b[0m\u001b[1;33m(\u001b[0m\u001b[0ma\u001b[0m\u001b[1;33m)\u001b[0m\u001b[1;33m/\u001b[0m\u001b[0mn\u001b[0m\u001b[1;33m\u001b[0m\u001b[1;33m\u001b[0m\u001b[0m\n\u001b[0m\u001b[0;32m     10\u001b[0m \u001b[1;33m\u001b[0m\u001b[0m\n\u001b[0;32m     11\u001b[0m \u001b[1;33m\u001b[0m\u001b[0m\n",
      "\u001b[1;31mNameError\u001b[0m: name 'Sum' is not defined"
     ]
    }
   ],
   "source": [
    "n = int(input(\"Enter the Number to be Inserted: \"))\n",
    "a=[]\n",
    "for i in range(0,n):\n",
    "    elem=int(input(\"Enter Element: \"))\n",
    "    \n",
    "    \n",
    "    \n",
    "a.append(elem)\n",
    "avg = sum(a)/n\n",
    "\n",
    "\n",
    "print(\"Average elements in the list\", round(avg, 2))"
   ]
  },
  {
   "cell_type": "code",
   "execution_count": 16,
   "metadata": {},
   "outputs": [
    {
     "name": "stdout",
     "output_type": "stream",
     "text": [
      "Enter number: 3543667\n",
      "The reverse of the number is:  7663453\n"
     ]
    }
   ],
   "source": [
    "n = int(input(\"Enter number: \"))\n",
    "rev  = 0\n",
    "while(n>0):\n",
    "    dig=n%10\n",
    "    rev = rev*10+dig\n",
    "    n= n//10\n",
    "print(\"The reverse of the number is: \", rev)"
   ]
  },
  {
   "cell_type": "code",
   "execution_count": 11,
   "metadata": {},
   "outputs": [
    {
     "name": "stdout",
     "output_type": "stream",
     "text": [
      "Enter number: 35366\n",
      "The sum of the digits is:  23\n"
     ]
    }
   ],
   "source": [
    "n = int(input(\"Enter number: \"))\n",
    "tot = 0\n",
    "while(n>0):\n",
    "    dig=n%10\n",
    "    tot= tot+dig\n",
    "    n= n//10\n",
    "print(\"The sum of the digits is: \", tot)"
   ]
  },
  {
   "cell_type": "code",
   "execution_count": 15,
   "metadata": {},
   "outputs": [
    {
     "name": "stdout",
     "output_type": "stream",
     "text": [
      "Enter number: 222\n",
      "The number is a palindrome\n"
     ]
    }
   ],
   "source": [
    "n = int(input(\"Enter number: \"))\n",
    "temp = n\n",
    "rev1 =0\n",
    "while (n>0):\n",
    "    dig1 = n%10\n",
    "    rev1 = rev1*10+dig1\n",
    "    n=n//10\n",
    "    \n",
    "if(temp==rev1):\n",
    "    print(\"The number is a palindrome\")\n",
    "    \n",
    "else:\n",
    "    print(\"The Number is not a palindrome\")"
   ]
  },
  {
   "cell_type": "code",
   "execution_count": 17,
   "metadata": {},
   "outputs": [
    {
     "name": "stdout",
     "output_type": "stream",
     "text": [
      "Enter number: 4563377\n",
      "The number of digits in the number is:  7\n"
     ]
    }
   ],
   "source": [
    "n=int(input(\"Enter number: \"))\n",
    "count = 0\n",
    "while (n>0):\n",
    "    count =count+1\n",
    "    n=n//10\n",
    "print(\"The number of digits in the number is: \", count)"
   ]
  },
  {
   "cell_type": "code",
   "execution_count": 21,
   "metadata": {},
   "outputs": [
    {
     "name": "stdout",
     "output_type": "stream",
     "text": [
      "Enter Number: 16\n",
      "Number is not a Prime Number\n"
     ]
    }
   ],
   "source": [
    "a = int(input(\"Enter Number: \"))\n",
    "k= 0\n",
    "for i in range(2, a//2+1):\n",
    "    if(a%i == 0):\n",
    "        k=k+1\n",
    "if (k<=0):\n",
    "    print(\"Number is Prime Number \")\n",
    "else:\n",
    "    print(\"Number is not a Prime Number\")"
   ]
  },
  {
   "cell_type": "code",
   "execution_count": 23,
   "metadata": {},
   "outputs": [
    {
     "name": "stdout",
     "output_type": "stream",
     "text": [
      "Enter the number to print the tables for:4\n",
      "4 x 1 = 4\n",
      "4 x 2 = 8\n",
      "4 x 3 = 12\n",
      "4 x 4 = 16\n",
      "4 x 5 = 20\n",
      "4 x 6 = 24\n",
      "4 x 7 = 28\n",
      "4 x 8 = 32\n",
      "4 x 9 = 36\n",
      "4 x 10 = 40\n"
     ]
    }
   ],
   "source": [
    "n=int(input(\"Enter the number to print the tables for:\"))\n",
    "for i in range(1,11):\n",
    "    print(n,\"x\",i,\"=\",n*i)"
   ]
  },
  {
   "cell_type": "code",
   "execution_count": 26,
   "metadata": {
    "scrolled": false
   },
   "outputs": [
    {
     "ename": "IndentationError",
     "evalue": "expected an indented block (<ipython-input-26-8b1eeeb372ce>, line 6)",
     "output_type": "error",
     "traceback": [
      "\u001b[1;36m  File \u001b[1;32m\"<ipython-input-26-8b1eeeb372ce>\"\u001b[1;36m, line \u001b[1;32m6\u001b[0m\n\u001b[1;33m    print(\"The number is an armstrong number. \")\u001b[0m\n\u001b[1;37m    ^\u001b[0m\n\u001b[1;31mIndentationError\u001b[0m\u001b[1;31m:\u001b[0m expected an indented block\n"
     ]
    }
   ],
   "source": [
    "n=int(input(\"Enter any number: \"))\n",
    "a=list(map(int,str(n)))\n",
    "b=list(map(lambda x:x**3,a))\n",
    "\n",
    "if(sum(b)==n):\n",
    "print(\"The number is an armstrong number. \")\n",
    "else:\n",
    "print(\"The number isn't an arsmtrong number. \")"
   ]
  },
  {
   "cell_type": "code",
   "execution_count": 28,
   "metadata": {},
   "outputs": [
    {
     "name": "stdout",
     "output_type": "stream",
     "text": [
      "0\n",
      "1\n",
      "1\n",
      "2\n",
      "3\n",
      "5\n",
      "8\n",
      "13\n",
      "21\n",
      "34\n",
      "55\n",
      "89\n"
     ]
    }
   ],
   "source": [
    "#program to write fibonacci series\n",
    "\n",
    "def F(n):\n",
    "    if n == 0: return  0\n",
    "    elif n == 1: return 1\n",
    "    else: return F(n-1) + F(n-2)\n",
    "\n",
    "\n",
    "for i in range(0,12):\n",
    "    print(F(i))"
   ]
  },
  {
   "cell_type": "code",
   "execution_count": 29,
   "metadata": {},
   "outputs": [
    {
     "name": "stdout",
     "output_type": "stream",
     "text": [
      "[9, 8, 67, 66, 456, 433, 677, 984, 47, 56, 4, 44, 69, 42]\n"
     ]
    }
   ],
   "source": [
    "#write a program to reverse of a list\n",
    "l1 = [42,69,44,4,56,47,984,677,433,456,66,67,8,9]\n",
    "\n",
    "\n",
    "def rev(l):\n",
    "    return l[::-1]\n",
    "print(rev(l1))"
   ]
  },
  {
   "cell_type": "code",
   "execution_count": 30,
   "metadata": {},
   "outputs": [
    {
     "name": "stdout",
     "output_type": "stream",
     "text": [
      "{2, 4, 7}\n"
     ]
    }
   ],
   "source": [
    "#write a progam to remove duplicate items in a list\n",
    "l = [1,2,2,7,4,4,6,5,7,8,9,3]\n",
    "print(set([x for x in l if l.count(x) > 1]))"
   ]
  },
  {
   "cell_type": "code",
   "execution_count": 31,
   "metadata": {},
   "outputs": [
    {
     "name": "stdout",
     "output_type": "stream",
     "text": [
      "True\n"
     ]
    }
   ],
   "source": [
    "#Checking if the string is palindrome\n",
    "def isPalindrome(s):\n",
    "\n",
    "#using a predifined function to reverse to string print(s)\n",
    "    rev = ''.join(reversed(s))\n",
    "#checking if both string are equal or not\n",
    "\n",
    "    if (s == rev):\n",
    "        return True\n",
    "    return False\n",
    "print(isPalindrome(\"madam\"))"
   ]
  },
  {
   "cell_type": "code",
   "execution_count": 35,
   "metadata": {},
   "outputs": [
    {
     "name": "stdout",
     "output_type": "stream",
     "text": [
      "0\n",
      "1\n",
      "2\n",
      "3\n",
      "5\n",
      "7\n",
      "11\n",
      "13\n",
      "17\n",
      "19\n",
      "23\n",
      "29\n",
      "31\n",
      "37\n",
      "41\n",
      "43\n",
      "47\n",
      "53\n",
      "59\n",
      "61\n",
      "67\n",
      "71\n",
      "73\n",
      "79\n",
      "83\n",
      "89\n",
      "97\n"
     ]
    }
   ],
   "source": [
    "#program to return prime numbers\n",
    "for num in range(0, 100):\n",
    "    if all(num% i !=0 for i  in range(2, num)):\n",
    "        print(num)"
   ]
  },
  {
   "cell_type": "code",
   "execution_count": 36,
   "metadata": {},
   "outputs": [
    {
     "ename": "TypeError",
     "evalue": "object of type 'int' has no len()",
     "output_type": "error",
     "traceback": [
      "\u001b[1;31m---------------------------------------------------------------------------\u001b[0m",
      "\u001b[1;31mTypeError\u001b[0m                                 Traceback (most recent call last)",
      "\u001b[1;32m<ipython-input-36-d58ecf00e30d>\u001b[0m in \u001b[0;36m<module>\u001b[1;34m\u001b[0m\n\u001b[0;32m      9\u001b[0m \u001b[0ml\u001b[0m \u001b[1;33m=\u001b[0m \u001b[1;33m[\u001b[0m\u001b[1;36m1\u001b[0m\u001b[1;33m,\u001b[0m\u001b[1;36m2\u001b[0m\u001b[1;33m,\u001b[0m\u001b[1;36m3\u001b[0m\u001b[1;33m,\u001b[0m\u001b[1;36m4\u001b[0m\u001b[1;33m,\u001b[0m\u001b[1;36m4\u001b[0m\u001b[1;33m,\u001b[0m\u001b[1;36m4\u001b[0m\u001b[1;33m,\u001b[0m\u001b[1;36m5\u001b[0m\u001b[1;33m,\u001b[0m\u001b[1;36m5\u001b[0m\u001b[1;33m,\u001b[0m\u001b[1;36m6\u001b[0m\u001b[1;33m,\u001b[0m\u001b[1;36m6\u001b[0m\u001b[1;33m,\u001b[0m\u001b[1;36m1\u001b[0m\u001b[1;33m]\u001b[0m\u001b[1;33m\u001b[0m\u001b[1;33m\u001b[0m\u001b[0m\n\u001b[0;32m     10\u001b[0m \u001b[1;33m\u001b[0m\u001b[0m\n\u001b[1;32m---> 11\u001b[1;33m \u001b[0msearch\u001b[0m\u001b[1;33m(\u001b[0m\u001b[1;36m1\u001b[0m\u001b[1;33m,\u001b[0m\u001b[1;36m4\u001b[0m\u001b[1;33m)\u001b[0m\u001b[1;33m\u001b[0m\u001b[1;33m\u001b[0m\u001b[0m\n\u001b[0m",
      "\u001b[1;32m<ipython-input-36-d58ecf00e30d>\u001b[0m in \u001b[0;36msearch\u001b[1;34m(arr, x)\u001b[0m\n\u001b[0;32m      1\u001b[0m \u001b[1;31m# write a function to search a given element\u001b[0m\u001b[1;33m\u001b[0m\u001b[1;33m\u001b[0m\u001b[1;33m\u001b[0m\u001b[0m\n\u001b[0;32m      2\u001b[0m \u001b[1;32mdef\u001b[0m \u001b[0msearch\u001b[0m\u001b[1;33m(\u001b[0m\u001b[0marr\u001b[0m\u001b[1;33m,\u001b[0m \u001b[0mx\u001b[0m\u001b[1;33m)\u001b[0m\u001b[1;33m:\u001b[0m\u001b[1;33m\u001b[0m\u001b[1;33m\u001b[0m\u001b[0m\n\u001b[1;32m----> 3\u001b[1;33m     \u001b[1;32mfor\u001b[0m \u001b[0mi\u001b[0m \u001b[1;32min\u001b[0m \u001b[0mrange\u001b[0m\u001b[1;33m(\u001b[0m\u001b[0mlen\u001b[0m\u001b[1;33m(\u001b[0m\u001b[0marr\u001b[0m\u001b[1;33m)\u001b[0m\u001b[1;33m)\u001b[0m\u001b[1;33m:\u001b[0m\u001b[1;33m\u001b[0m\u001b[1;33m\u001b[0m\u001b[0m\n\u001b[0m\u001b[0;32m      4\u001b[0m         \u001b[1;32mif\u001b[0m \u001b[0marr\u001b[0m\u001b[1;33m[\u001b[0m\u001b[0mi\u001b[0m\u001b[1;33m]\u001b[0m \u001b[1;33m==\u001b[0m \u001b[0mx\u001b[0m\u001b[1;33m:\u001b[0m\u001b[1;33m\u001b[0m\u001b[1;33m\u001b[0m\u001b[0m\n\u001b[0;32m      5\u001b[0m             \u001b[1;32mreturn\u001b[0m \u001b[0mi\u001b[0m\u001b[1;33m\u001b[0m\u001b[1;33m\u001b[0m\u001b[0m\n",
      "\u001b[1;31mTypeError\u001b[0m: object of type 'int' has no len()"
     ]
    }
   ],
   "source": [
    "# write a function to search a given element\n",
    "def search(arr, x):\n",
    "    for i in range(len(arr)):\n",
    "        if arr[i] == x:\n",
    "            return i\n",
    "    print(\"not present in the list\")\n",
    "\n",
    "\n",
    "l = [1,2,3,4,4,4,5,5,6,6,1]\n",
    "\n",
    "search(1,4)"
   ]
  },
  {
   "cell_type": "code",
   "execution_count": null,
   "metadata": {},
   "outputs": [],
   "source": [
    "l1 = [42,69,44,4,56,47,984,677,433,456,66,67,8,9]\n",
    "new_l1 = []\n",
    "\n",
    "while l1:\n",
    "    minimum = l1[0]\n",
    "    for x in l1:\n",
    "        if x > minimum:\n",
    "            minimum = x\n",
    "            new_l1.append(minimum)\n",
    "            l1.remove(minimum)\n",
    "\n",
    "\n",
    "\n",
    "print(new_l1)"
   ]
  },
  {
   "cell_type": "code",
   "execution_count": null,
   "metadata": {},
   "outputs": [],
   "source": [
    "#sorting a list\n",
    "l = [42,69,44,4,56,47,984,677,433,456,66,67,8,9]\n",
    "l.sort(reverse=False)\n",
    "\n",
    "print(l)"
   ]
  }
 ],
 "metadata": {
  "kernelspec": {
   "display_name": "Python 3",
   "language": "python",
   "name": "python3"
  },
  "language_info": {
   "codemirror_mode": {
    "name": "ipython",
    "version": 3
   },
   "file_extension": ".py",
   "mimetype": "text/x-python",
   "name": "python",
   "nbconvert_exporter": "python",
   "pygments_lexer": "ipython3",
   "version": "3.8.5"
  }
 },
 "nbformat": 4,
 "nbformat_minor": 4
}
